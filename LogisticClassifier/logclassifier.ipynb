{
 "cells": [
  {
   "cell_type": "code",
   "execution_count": 1,
   "metadata": {},
   "outputs": [],
   "source": [
    "# evaluate a logistic regression model using k-fold cross-validation\n",
    "from numpy import mean\n",
    "from numpy import std\n",
    "from sklearn.datasets import make_classification\n",
    "from sklearn.model_selection import KFold\n",
    "from sklearn.model_selection import cross_val_score\n",
    "from sklearn.linear_model import LogisticRegression\n",
    "import pandas as pd\n",
    "import sys\n",
    "import numpy as np\n",
    "import random"
   ]
  },
  {
   "cell_type": "code",
   "execution_count": 2,
   "metadata": {},
   "outputs": [],
   "source": [
    "main_dir =\"/u/home/b/briscoel/project-halperin/MicroBatch/data/\"\n",
    "script_folder= \"/u/home/b/briscoel/project-halperin/MicroBatch/RevisionSequence/\"\n",
    "local = True\n",
    "\n",
    "sys.argv = [ \"Thomasr_complete_otu\",\"rel\",\"\"]\n",
    "\n",
    "if local:\n",
    "    main_dir = \"/Users/leahbriscoe/Documents/MicroBatch/microbatch_vc/data/\"\n",
    "    script_folder = \"/Users/leahbriscoe/Documents/MicroBatch/microbatch_vc/RevisionSequence/\"\n",
    "\n",
    "folder = sys.argv[0] # \"AGPr_max_k5\" #\"AGPr_complete_otu\" \n",
    "trans = sys.argv[1] #\"rel\"\n",
    "\n",
    "data_dir = main_dir + folder + \"/\"\n",
    "\n",
    "\n",
    "\n",
    "metadata_table = pd.read_csv(data_dir + \"metadata.txt\", delimiter = \"\\t\",header=0)\n",
    "\n"
   ]
  },
  {
   "cell_type": "code",
   "execution_count": 3,
   "metadata": {},
   "outputs": [],
   "source": [
    "\n",
    "mylist = ['FengQ_2015', 'ZellerG_2014','HanniganGD_2017','ThomasAM_2018a','ThomasAM_2018b',\n",
    "         'VogtmannE_2016','YuJ_2015','ZellerG_2014']\n",
    "\n",
    "#mylist = ['ZellerG_2014','HanniganGD_2017']\n",
    "            \n",
    "pattern = '|'.join(mylist)        "
   ]
  },
  {
   "cell_type": "code",
   "execution_count": 16,
   "metadata": {},
   "outputs": [
    {
     "name": "stdout",
     "output_type": "stream",
     "text": [
      "nocorrection\n"
     ]
    },
    {
     "name": "stderr",
     "output_type": "stream",
     "text": [
      "/Users/leahbriscoe/anaconda3/lib/python3.6/site-packages/sklearn/externals/joblib/numpy_pickle.py:93: DeprecationWarning: tostring() is deprecated. Use tobytes() instead.\n",
      "  pickler.file_handle.write(chunk.tostring('C'))\n"
     ]
    },
    {
     "name": "stdout",
     "output_type": "stream",
     "text": [
      "Accuracy: 0.656 (0.032)\n",
      "percentilenorm\n"
     ]
    },
    {
     "name": "stderr",
     "output_type": "stream",
     "text": [
      "/Users/leahbriscoe/anaconda3/lib/python3.6/site-packages/sklearn/externals/joblib/numpy_pickle.py:93: DeprecationWarning: tostring() is deprecated. Use tobytes() instead.\n",
      "  pickler.file_handle.write(chunk.tostring('C'))\n"
     ]
    },
    {
     "name": "stdout",
     "output_type": "stream",
     "text": [
      "Accuracy: 0.672 (0.018)\n",
      "bmc\n"
     ]
    },
    {
     "name": "stderr",
     "output_type": "stream",
     "text": [
      "/Users/leahbriscoe/anaconda3/lib/python3.6/site-packages/sklearn/externals/joblib/numpy_pickle.py:93: DeprecationWarning: tostring() is deprecated. Use tobytes() instead.\n",
      "  pickler.file_handle.write(chunk.tostring('C'))\n"
     ]
    },
    {
     "name": "stdout",
     "output_type": "stream",
     "text": [
      "Accuracy: 0.659 (0.037)\n",
      "limmacounts\n"
     ]
    },
    {
     "name": "stderr",
     "output_type": "stream",
     "text": [
      "/Users/leahbriscoe/anaconda3/lib/python3.6/site-packages/sklearn/externals/joblib/numpy_pickle.py:93: DeprecationWarning: tostring() is deprecated. Use tobytes() instead.\n",
      "  pickler.file_handle.write(chunk.tostring('C'))\n"
     ]
    },
    {
     "name": "stdout",
     "output_type": "stream",
     "text": [
      "Accuracy: 0.606 (0.042)\n",
      "combatcounts\n"
     ]
    },
    {
     "name": "stderr",
     "output_type": "stream",
     "text": [
      "/Users/leahbriscoe/anaconda3/lib/python3.6/site-packages/sklearn/externals/joblib/numpy_pickle.py:93: DeprecationWarning: tostring() is deprecated. Use tobytes() instead.\n",
      "  pickler.file_handle.write(chunk.tostring('C'))\n"
     ]
    },
    {
     "name": "stdout",
     "output_type": "stream",
     "text": [
      "Accuracy: 0.499 (0.046)\n",
      "clr_pcacounts\n"
     ]
    },
    {
     "name": "stderr",
     "output_type": "stream",
     "text": [
      "/Users/leahbriscoe/anaconda3/lib/python3.6/site-packages/sklearn/externals/joblib/numpy_pickle.py:93: DeprecationWarning: tostring() is deprecated. Use tobytes() instead.\n",
      "  pickler.file_handle.write(chunk.tostring('C'))\n"
     ]
    },
    {
     "name": "stdout",
     "output_type": "stream",
     "text": [
      "Accuracy: 0.654 (0.042)\n",
      "clr_scale_pca\n"
     ]
    },
    {
     "name": "stderr",
     "output_type": "stream",
     "text": [
      "/Users/leahbriscoe/anaconda3/lib/python3.6/site-packages/sklearn/externals/joblib/numpy_pickle.py:93: DeprecationWarning: tostring() is deprecated. Use tobytes() instead.\n",
      "  pickler.file_handle.write(chunk.tostring('C'))\n"
     ]
    },
    {
     "name": "stdout",
     "output_type": "stream",
     "text": [
      "Accuracy: 0.726 (0.021)\n"
     ]
    }
   ],
   "source": [
    "corrections = [\"nocorrection\",\"percentilenorm\",\"bmc\",\"limmacounts\",\"combatcounts\",\"clr_pcacounts\",\"clr_scale_pca\"] \n",
    "random.seed(0)\n",
    "\n",
    "scores_list= []\n",
    "for correction in corrections:\n",
    "    print(correction)\n",
    "    if correction == \"nocorrection\":\n",
    "        feature_table = pd.read_csv(data_dir  + \"feature_table_\" + trans + \".txt\" ,delimiter = \"\\t\",header=0)\n",
    "    else:\n",
    "        feature_table = pd.read_csv(data_dir  +\"feature_table_\" + trans + \"_\" + correction + \".txt\" ,delimiter = \"\\t\",header=0)\n",
    "\n",
    "   \n",
    "    \n",
    "    X = np.array(feature_table.T[(metadata_table['bin_crc_normal'].notna()) & (metadata_table['dataset_name'].str.contains(pattern))])\n",
    "    y = np.array(metadata_table[(metadata_table['bin_crc_normal'].notna()) & (metadata_table['dataset_name'].str.contains(pattern))]['bin_crc_normal'])\n",
    "\n",
    "        # prepare the cross-validation procedure\n",
    "    cv = KFold(n_splits=5, random_state=1, shuffle=True)\n",
    "    # create model\n",
    "    model = LogisticRegression()\n",
    "    # evaluate model\n",
    "    scores = cross_val_score(model, X, y, scoring='roc_auc', cv=cv, n_jobs=-1)\n",
    "    # report performance\n",
    "    print('Accuracy: %.3f (%.3f)' % (mean(scores), std(scores)))\n",
    "    scores_list.append(scores)"
   ]
  },
  {
   "cell_type": "code",
   "execution_count": 38,
   "metadata": {},
   "outputs": [
    {
     "data": {
      "image/png": "[encoded data removed]",
      "text/plain": [
       "<Figure size 720x504 with 1 Axes>"
      ]
     },
     "metadata": {
      "needs_background": "light"
     },
     "output_type": "display_data"
    }
   ],
   "source": [
    "import matplotlib.pyplot as plt\n",
    " \n",
    "fig = plt.figure(figsize =(10, 7))\n",
    " \n",
    "# Creating axes instance\n",
    "ax = fig.add_axes([0.1,0.2,0.75,0.75])\n",
    " \n",
    "# Creating plot\n",
    "bp = ax.boxplot(scores_list)\n",
    "ax.tick_params(axis='x', which='major', labelsize=14,rotation=45)\n",
    "ax.tick_params(axis='y', which='major', labelsize=14)\n",
    "ax.set_xticklabels(corrections)\n",
    "plt.ylabel(\"AUC\",size=14)\n",
    "# show plot\n",
    "\n",
    "plt.savefig('logistic.pdf',dpi=300,format='pdf')\n",
    "plt.show(bp)"
   ]
  }
 ],
 "metadata": {
  "kernelspec": {
   "display_name": "Python 3",
   "language": "python",
   "name": "python3"
  },
  "language_info": {
   "codemirror_mode": {
    "name": "ipython",
    "version": 3
   },
   "file_extension": ".py",
   "mimetype": "text/x-python",
   "name": "python",
   "nbconvert_exporter": "python",
   "pygments_lexer": "ipython3",
   "version": "3.6.8"
  }
 },
 "nbformat": 4,
 "nbformat_minor": 2
}
